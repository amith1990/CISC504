{
 "cells": [
  {
   "cell_type": "code",
   "execution_count": 1,
   "metadata": {},
   "outputs": [
    {
     "name": "stdout",
     "output_type": "stream",
     "text": [
      "Amount of ruppees :1400\n",
      "Amount in Dollars : 20.0 $\n"
     ]
    }
   ],
   "source": [
    "# Coverting Rupees to Dollars, As we know $1 is INR70 we are writing a function to calculate the dollar amount\n",
    "r = float(input('Amount of ruppees :')) #Defining r for specifying rupees\n",
    "d = r / 70.0 # Defining d for specifying dollars\n",
    "def main():print (\"Amount in Dollars :\", d,\"$\") #Defining a function to specify the output\n",
    "main()"
   ]
  }
 ],
 "metadata": {
  "kernelspec": {
   "display_name": "Python 3",
   "language": "python",
   "name": "python3"
  },
  "language_info": {
   "codemirror_mode": {
    "name": "ipython",
    "version": 3
   },
   "file_extension": ".py",
   "mimetype": "text/x-python",
   "name": "python",
   "nbconvert_exporter": "python",
   "pygments_lexer": "ipython3",
   "version": "3.7.0"
  }
 },
 "nbformat": 4,
 "nbformat_minor": 2
}
